{
 "cells": [
  {
   "cell_type": "code",
   "execution_count": 11,
   "id": "571183c1-f175-4f72-bd77-f1a72710f4eb",
   "metadata": {},
   "outputs": [],
   "source": [
    "import csv\n",
    "import numpy as np\n",
    "from pathlib import Path\n",
    "\n",
    "# Path to collect data from the Resources folder\n",
    "budget_data_path = Path(\"./budget_data.csv\")\n",
    "\n",
    "# Initialise budget records\n",
    "budget_records = []"
   ]
  },
  {
   "cell_type": "code",
   "execution_count": 12,
   "id": "66a180f3-073d-47f1-b54f-291566c4c690",
   "metadata": {
    "tags": []
   },
   "outputs": [
    {
     "name": "stdout",
     "output_type": "stream",
     "text": [
      "\n",
      "Financial Analysis\n",
      "\n",
      "-----------------------------------\n",
      "\n",
      "Total Months: 86\n",
      "Total: $38382578\n",
      "Average Change: $-2315.12\n",
      "Greatest Increase in Profits: Feb-2012 ($1926159)\n",
      "Greatest Decrease in Profits: Sep-2013 ($-2196167)\n",
      "\n"
     ]
    }
   ],
   "source": [
    "# Read in the CSV file\n",
    "with open(budget_data_path, \"r\") as csvfile:\n",
    "    budget_reader = csv.reader(csvfile, delimiter = \",\")\n",
    "    \n",
    "    # Read the header row\n",
    "    budget_header = next(budget_reader)\n",
    "    #print(budget_header)\n",
    "       \n",
    "    # Initialise variables\n",
    "    total_months = 0\n",
    "    total_revenue = 0\n",
    "    previous_month = 0\n",
    "    monthly_change = 0\n",
    "    greatest_decrease = 0\n",
    "    greatest_increase = 0\n",
    "    delta_list = []\n",
    "    \n",
    "    # Read each row of data following header \n",
    "    for row in budget_reader:\n",
    "\n",
    "        # Calculate the totals\n",
    "        total_months += 1\n",
    "        total_revenue += int(row[1])\n",
    "\n",
    "        # Calculate the average change\n",
    "        monthly_change = int(row[1]) - previous_month\n",
    "        previous_month = int(row[1])\n",
    "        delta_list += [monthly_change]\n",
    "        \n",
    "        # Calculate the greatest increase\n",
    "        if monthly_change > greatest_increase:\n",
    "            greatest_increase = monthly_change\n",
    "            greatest_increase_month = row[0]\n",
    "        \n",
    "        # Calculate the greatest decrease\n",
    "        if monthly_change < greatest_decrease:\n",
    "            greatest_decrease = monthly_change\n",
    "            greatest_decrease_month = row[0]\n",
    "        \n",
    "\n",
    "average_delta = (np.mean(delta_list[1:]))\n",
    "average_delta = round(average_delta,2)\n",
    "\n",
    "# Print the calculations to the terminal\n",
    "print()\n",
    "print(\"Financial Analysis\")\n",
    "print()\n",
    "print(\"-----------------------------------\")\n",
    "print()\n",
    "print(f\"Total Months: {total_months}\")\n",
    "print(f\"Total: ${total_revenue}\")\n",
    "print(f\"Average Change: ${average_delta}\")\n",
    "print(f\"Greatest Increase in Profits: {greatest_increase_month} (${greatest_increase})\")\n",
    "print(f\"Greatest Decrease in Profits: {greatest_decrease_month} (${greatest_decrease})\")\n",
    "print()"
   ]
  },
  {
   "cell_type": "code",
   "execution_count": null,
   "id": "000171a0-7a9a-489b-b06a-90ae664dbbbf",
   "metadata": {},
   "outputs": [],
   "source": []
  }
 ],
 "metadata": {
  "kernelspec": {
   "display_name": "Python 3 (ipykernel)",
   "language": "python",
   "name": "python3"
  },
  "language_info": {
   "codemirror_mode": {
    "name": "ipython",
    "version": 3
   },
   "file_extension": ".py",
   "mimetype": "text/x-python",
   "name": "python",
   "nbconvert_exporter": "python",
   "pygments_lexer": "ipython3",
   "version": "3.10.11"
  }
 },
 "nbformat": 4,
 "nbformat_minor": 5
}
