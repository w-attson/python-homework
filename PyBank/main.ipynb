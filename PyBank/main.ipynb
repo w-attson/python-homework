{
 "cells": [
  {
   "cell_type": "code",
   "execution_count": 1,
   "id": "571183c1-f175-4f72-bd77-f1a72710f4eb",
   "metadata": {
    "tags": []
   },
   "outputs": [],
   "source": [
    "import csv\n",
    "import numpy as np\n",
    "from pathlib import Path\n",
    "\n",
    "# Path to collect data from the Resources folder\n",
    "budget_data_path = Path(\"./budget_data.csv\")\n",
    "\n",
    "# Initialise budget records\n",
    "budget_records = []"
   ]
  },
  {
   "cell_type": "code",
   "execution_count": 2,
   "id": "66a180f3-073d-47f1-b54f-291566c4c690",
   "metadata": {
    "tags": []
   },
   "outputs": [],
   "source": [
    "# Read in the CSV file\n",
    "with open(budget_data_path, \"r\") as csvfile:\n",
    "    budget_reader = csv.reader(csvfile, delimiter = \",\")\n",
    "    \n",
    "    # Read the header row\n",
    "    budget_header = next(budget_reader)\n",
    "       \n",
    "    # Initialise variables\n",
    "    total_months = 0\n",
    "    total_revenue = 0\n",
    "    previous_month = 0\n",
    "    monthly_change = 0\n",
    "    greatest_decrease = 0\n",
    "    greatest_increase = 0\n",
    "    delta_list = []\n",
    "    \n",
    "    # Read each row \n",
    "    for row in budget_reader:\n",
    "\n",
    "        # Calculate the totals\n",
    "        total_months += 1\n",
    "        total_revenue += int(row[1])\n",
    "        \n",
    "        # Assign variables\n",
    "        date = row[0]\n",
    "        pnl = int(row[1])\n",
    "\n",
    "        # Calculate the average change\n",
    "        monthly_change = pnl - previous_month\n",
    "        previous_month = pnl\n",
    "        delta_list += [monthly_change]\n",
    "        \n",
    "        # Calculate the greatest increase\n",
    "        if monthly_change > greatest_increase:\n",
    "            greatest_increase = monthly_change\n",
    "            greatest_increase_month = date\n",
    "        \n",
    "        # Calculate the greatest decrease\n",
    "        if monthly_change < greatest_decrease:\n",
    "            greatest_decrease = monthly_change\n",
    "            greatest_decrease_month = date\n",
    "\n",
    "average_delta = (np.mean(delta_list[1:]))\n",
    "average_delta = round(average_delta,2)"
   ]
  },
  {
   "cell_type": "code",
   "execution_count": 3,
   "id": "000171a0-7a9a-489b-b06a-90ae664dbbbf",
   "metadata": {
    "tags": []
   },
   "outputs": [],
   "source": [
    "# Output the calculations to the text file\n",
    "output = Path(\"budget_data_completed.txt\")\n",
    "\n",
    "with open(output, 'w') as file:\n",
    "    file.write(\"Financial Analysis\\n\")\n",
    "    file.write(\"-----------------------------------\\n\")\n",
    "    file.write(f\"Total Months: {total_months}\\n\")\n",
    "    file.write(f\"Total: ${total_revenue}\\n\")\n",
    "    file.write(f\"Average Change: ${average_delta}\\n\")\n",
    "    file.write(f\"Greatest Increase in Profits: {greatest_increase_month} (${greatest_increase})\\n\")\n",
    "    file.write(f\"Greatest Decrease in Profits: {greatest_decrease_month} (${greatest_decrease})\\n\")\n",
    "    file.write(\"\\n\")"
   ]
  }
 ],
 "metadata": {
  "kernelspec": {
   "display_name": "Python 3 (ipykernel)",
   "language": "python",
   "name": "python3"
  },
  "language_info": {
   "codemirror_mode": {
    "name": "ipython",
    "version": 3
   },
   "file_extension": ".py",
   "mimetype": "text/x-python",
   "name": "python",
   "nbconvert_exporter": "python",
   "pygments_lexer": "ipython3",
   "version": "3.10.11"
  }
 },
 "nbformat": 4,
 "nbformat_minor": 5
}
